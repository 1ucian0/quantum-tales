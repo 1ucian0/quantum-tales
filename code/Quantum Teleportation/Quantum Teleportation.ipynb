{
 "cells": [
  {
   "cell_type": "code",
   "execution_count": 1,
   "metadata": {},
   "outputs": [
    {
     "output_type": "stream",
     "name": "stdout",
     "text": [
      "Note: you may need to restart the kernel to use updated packages.\n"
     ]
    }
   ],
   "source": [
    "%pip --quiet install qiskit pylatexenc git+https://github.com/qiskit-community/qiskit-textbook.git#subdirectory=qiskit-textbook-src\n",
    "%matplotlib inline\n",
    "\n",
    "# Importing standard Qiskit libraries and configuring account\n",
    "from qiskit import QuantumCircuit, QuantumRegister, ClassicalRegister, execute, Aer, IBMQ\n",
    "from qiskit.compiler import transpile, assemble\n",
    "from qiskit.tools.jupyter import *\n",
    "from qiskit.visualization import *\n",
    "from qiskit_textbook.tools import random_state\n",
    "from qiskit.extensions import Initialize\n",
    "\n",
    "# Loading your IBM Q account(s)\n",
    "# IBMQ.load_account()\n",
    "backend = Aer.get_backend('qasm_simulator')"
   ]
  },
  {
   "cell_type": "code",
   "execution_count": 2,
   "metadata": {},
   "outputs": [
    {
     "output_type": "error",
     "ename": "NameError",
     "evalue": "name 'random_state' is not defined",
     "traceback": [
      "\u001b[0;31m---------------------------------------------------------------------------\u001b[0m",
      "\u001b[0;31mNameError\u001b[0m                                 Traceback (most recent call last)",
      "\u001b[0;32m<ipython-input-2-4ed165b7e2d6>\u001b[0m in \u001b[0;36m<module>\u001b[0;34m\u001b[0m\n\u001b[1;32m      6\u001b[0m \u001b[0;34m\u001b[0m\u001b[0m\n\u001b[1;32m      7\u001b[0m \u001b[0;31m# Information to be sent\u001b[0m\u001b[0;34m\u001b[0m\u001b[0;34m\u001b[0m\u001b[0;34m\u001b[0m\u001b[0m\n\u001b[0;32m----> 8\u001b[0;31m \u001b[0mmsg\u001b[0m \u001b[0;34m=\u001b[0m \u001b[0mrandom_state\u001b[0m\u001b[0;34m(\u001b[0m\u001b[0;36m1\u001b[0m\u001b[0;34m)\u001b[0m\u001b[0;34m\u001b[0m\u001b[0;34m\u001b[0m\u001b[0m\n\u001b[0m\u001b[1;32m      9\u001b[0m \u001b[0minit_gate\u001b[0m \u001b[0;34m=\u001b[0m \u001b[0mInitialize\u001b[0m\u001b[0;34m(\u001b[0m\u001b[0mmsg\u001b[0m\u001b[0;34m)\u001b[0m\u001b[0;34m\u001b[0m\u001b[0;34m\u001b[0m\u001b[0m\n\u001b[1;32m     10\u001b[0m \u001b[0minit_gate\u001b[0m\u001b[0;34m.\u001b[0m\u001b[0mname\u001b[0m \u001b[0;34m=\u001b[0m \u001b[0;34m'Message'\u001b[0m\u001b[0;34m\u001b[0m\u001b[0;34m\u001b[0m\u001b[0m\n",
      "\u001b[0;31mNameError\u001b[0m: name 'random_state' is not defined"
     ]
    }
   ],
   "source": [
    "## SETUP\n",
    "qr = QuantumRegister(3, name=\"q\")   # Protocol uses 3 qubits\n",
    "crz = ClassicalRegister(1, name=\"crz\") # and 2 classical registers\n",
    "crx = ClassicalRegister(1, name=\"crx\")\n",
    "qc = QuantumCircuit(qr, crz, crx)\n",
    "\n",
    "# Information to be sent \n",
    "msg = random_state(1)\n",
    "init_gate = Initialize(msg)\n",
    "init_gate.name = 'Message'\n",
    "\n",
    "## STEP 0\n",
    "# First, let's initialize Alice's q0\n",
    "qc.append(init_gate, [0])\n",
    "qc.barrier()\n",
    "\n",
    "## STEP 1\n",
    "# Now begins the teleportation protocol\n",
    "qc.h(1) # Put qubit 1 into state |+>\n",
    "qc.cx(1, 2) # CNOT with 1 as control and 2 as target\n",
    "qc.barrier()\n",
    "\n",
    "## STEP 2\n",
    "# Send q1 to Alice and q2 to Bob\n",
    "qc.cx(0, 1)\n",
    "qc.h(0)\n",
    "qc.barrier()\n",
    "\n",
    "## STEP 3\n",
    "# Alice then sends her classical bits to Bob\n",
    "qc.measure([0, 1], [0, 1])\n",
    "\n",
    "## STEP 4\n",
    "# Bob decodes qubits\n",
    "# Here we use c_if to control our gates with a classical bit instead of a qubit\n",
    "qc.x(2).c_if(crx, 1) # Apply gates if the registers \n",
    "qc.z(2).c_if(crz, 1) # are in the state '1'\n",
    "\n",
    "## STEP 5\n",
    "# reverse the initialization process\n",
    "qc.append(init_gate.gates_to_uncompute(), [2])\n",
    "\n",
    "## STEP 6\n",
    "# measure the transferred qubit information\n",
    "qc.add_register(ClassicalRegister(1))\n",
    "qc.measure(2, 2)\n",
    "\n",
    "# Display the circuit\n",
    "qc.draw('mpl')"
   ]
  },
  {
   "cell_type": "code",
   "execution_count": 3,
   "metadata": {},
   "outputs": [
    {
     "data": {
      "image/png": "[encoded data removed]",
      "text/plain": [
       "<Figure size 504x360 with 1 Axes>"
      ]
     },
     "execution_count": 3,
     "metadata": {},
     "output_type": "execute_result"
    }
   ],
   "source": [
    "results = execute(qc, backend=backend).result()\n",
    "answer = results.get_counts()\n",
    "plot_histogram(answer)"
   ]
  }
 ],
 "metadata": {
  "kernelspec": {
   "display_name": "Python 3",
   "name": "python3",
   "language": "python"
  },
  "language_info": {
   "codemirror_mode": {
    "name": "ipython",
    "version": 3
   },
   "file_extension": ".py",
   "mimetype": "text/x-python",
   "name": "python",
   "nbconvert_exporter": "python",
   "pygments_lexer": "ipython3",
   "version": "3.8.3-final"
  }
 },
 "nbformat": 4,
 "nbformat_minor": 4
}