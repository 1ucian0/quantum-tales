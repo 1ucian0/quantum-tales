{
  "nbformat": 4,
  "nbformat_minor": 0,
  "metadata": {
    "kernelspec": {
      "display_name": "Python 3",
      "name": "python3",
      "language": "python"
    },
    "language_info": {
      "codemirror_mode": {
        "name": "ipython",
        "version": 3
      },
      "file_extension": ".py",
      "mimetype": "text/x-python",
      "name": "python",
      "nbconvert_exporter": "python",
      "pygments_lexer": "ipython3",
      "version": "3.8.3-final"
    },
    "colab": {
      "name": "Deutsch-Jozsa Algorithm.ipynb",
      "provenance": []
    }
  },
  "cells": [
    {
      "cell_type": "code",
      "metadata": {
        "id": "Xg2j15RiuNlr",
        "outputId": "a9cca0b4-37bb-417b-bf5e-2e9c6dd962b4",
        "colab": {
          "base_uri": "https://localhost:8080/"
        }
      },
      "source": [
        "%pip --quiet install qiskit pylatexenc\n",
        "%matplotlib inline\n",
        "\n",
        "# Importing standard Qiskit libraries and configuring account\n",
        "from qiskit import QuantumCircuit, QuantumRegister, ClassicalRegister, execute, Aer, IBMQ\n",
        "from qiskit.compiler import transpile, assemble\n",
        "from qiskit.tools.jupyter import *\n",
        "from qiskit.visualization import *\n",
        "from qiskit.extensions import Initialize\n",
        "from random import choice\n",
        "\n",
        "# Loading your IBM Q account(s)\n",
        "# IBMQ.load_account()\n",
        "backend = Aer.get_backend('qasm_simulator')"
      ],
      "execution_count": 1,
      "outputs": [
        {
          "output_type": "stream",
          "text": [
            "\u001b[K     |████████████████████████████████| 163kB 4.3MB/s \n",
            "\u001b[K     |████████████████████████████████| 8.5MB 5.2MB/s \n",
            "\u001b[K     |████████████████████████████████| 17.6MB 253kB/s \n",
            "\u001b[K     |████████████████████████████████| 204kB 39.6MB/s \n",
            "\u001b[K     |████████████████████████████████| 204kB 39.1MB/s \n",
            "\u001b[K     |████████████████████████████████| 2.1MB 44.2MB/s \n",
            "\u001b[K     |████████████████████████████████| 1.3MB 48.8MB/s \n",
            "\u001b[K     |████████████████████████████████| 51kB 5.4MB/s \n",
            "\u001b[K     |████████████████████████████████| 5.9MB 32.4MB/s \n",
            "\u001b[K     |████████████████████████████████| 194kB 57.1MB/s \n",
            "\u001b[K     |████████████████████████████████| 81kB 7.7MB/s \n",
            "\u001b[K     |████████████████████████████████| 614kB 42.0MB/s \n",
            "\u001b[K     |████████████████████████████████| 102kB 9.2MB/s \n",
            "\u001b[K     |████████████████████████████████| 2.6MB 41.9MB/s \n",
            "\u001b[K     |████████████████████████████████| 5.5MB 37.8MB/s \n",
            "\u001b[?25h  Building wheel for qiskit (setup.py) ... \u001b[?25l\u001b[?25hdone\n",
            "  Building wheel for pylatexenc (setup.py) ... \u001b[?25l\u001b[?25hdone\n",
            "  Building wheel for contextvars (setup.py) ... \u001b[?25l\u001b[?25hdone\n",
            "  Building wheel for python-constraint (setup.py) ... \u001b[?25l\u001b[?25hdone\n",
            "  Building wheel for docplex (setup.py) ... \u001b[?25l\u001b[?25hdone\n",
            "  Building wheel for dlx (setup.py) ... \u001b[?25l\u001b[?25hdone\n",
            "  Building wheel for yfinance (setup.py) ... \u001b[?25l\u001b[?25hdone\n"
          ],
          "name": "stdout"
        }
      ]
    },
    {
      "cell_type": "code",
      "metadata": {
        "id": "o-zRiu46uNly",
        "outputId": "68cca0e9-9f1b-4ad7-a9f5-29f011088ed6",
        "colab": {
          "base_uri": "https://localhost:8080/",
          "height": 276
        }
      },
      "source": [
        "## SETUP\n",
        "bowls = ['000', '111', '101']\n",
        "bowl = choice(bowls)\n",
        "qc = QuantumCircuit(len(bowl)+1, len(bowl))\n",
        "\n",
        "\n",
        "## STEP 0\n",
        "# Initalize porridge qubits to 1/√(2)|+> + 1/√(2)|->\n",
        "qc.h(range(len(bowl)))\n",
        "# Initalize DJ qubit to -|1>\n",
        "qc.x(len(bowl))\n",
        "qc.h(len(bowl))\n",
        "qc.barrier()\n",
        "\n",
        "## STEP 1\n",
        "# Encode bowl of porridge as a constant or balanced function\n",
        "for qubit, spoonful in enumerate(bowl):\n",
        "    if spoonful == '1':\n",
        "        qc.x(qubit)\n",
        "qc.barrier()\n",
        "\n",
        "# Check to apply C-NOT gates\n",
        "if len(set(bowl)) == 1:\n",
        "    for qubit in range(len(bowl)):\n",
        "        qc.cx(qubit, len(bowl))\n",
        "    qc.barrier()\n",
        "\n",
        "## STEP 3\n",
        "# Repeat step 1\n",
        "for qubit, spoonful in enumerate(bowl):\n",
        "    if spoonful == '1':\n",
        "        qc.x(qubit)\n",
        "qc.barrier()\n",
        "\n",
        "## STEP 4\n",
        "# Apply H-gates\n",
        "qc.h(range(len(bowl)))\n",
        "qc.barrier()\n",
        "\n",
        "## STEP 5\n",
        "# Measure\n",
        "qc.measure(range(len(bowl)), range(len(bowl)))\n",
        "\n",
        "qc.draw('mpl')"
      ],
      "execution_count": 2,
      "outputs": [
        {
          "output_type": "execute_result",
          "data": {
            "image/png": "[encoded data removed]",
            "text/plain": [
              "<Figure size 929.397x325.08 with 1 Axes>"
            ]
          },
          "metadata": {
            "tags": []
          },
          "execution_count": 2
        }
      ]
    },
    {
      "cell_type": "code",
      "metadata": {
        "id": "JTU1jvTbuNlz",
        "outputId": "d40b0901-2a7e-4a7d-d9c7-4d96cb5730e9",
        "colab": {
          "base_uri": "https://localhost:8080/",
          "height": 340
        }
      },
      "source": [
        "results = execute(qc, backend=backend).result()\n",
        "answer = results.get_counts()\n",
        "plot_histogram(answer)"
      ],
      "execution_count": 3,
      "outputs": [
        {
          "output_type": "execute_result",
          "data": {
            "image/png": "[encoded data removed]",
            "text/plain": [
              "<Figure size 504x360 with 1 Axes>"
            ]
          },
          "metadata": {
            "tags": []
          },
          "execution_count": 3
        }
      ]
    }
  ]
}