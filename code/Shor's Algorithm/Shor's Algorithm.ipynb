{
  "nbformat": 4,
  "nbformat_minor": 0,
  "metadata": {
    "kernelspec": {
      "display_name": "Python 3",
      "name": "python3",
      "language": "python"
    },
    "language_info": {
      "codemirror_mode": {
        "name": "ipython",
        "version": 3
      },
      "file_extension": ".py",
      "mimetype": "text/x-python",
      "name": "python",
      "nbconvert_exporter": "python",
      "pygments_lexer": "ipython3",
      "version": "3.8.3-final"
    },
    "colab": {
      "name": "Shor's Algorithm.ipynb",
      "provenance": []
    }
  },
  "cells": [
    {
      "cell_type": "code",
      "metadata": {
        "id": "m6cp5M0iuorR",
        "outputId": "8d6c1cef-c37f-4cf8-d9fc-bef9432c1f23",
        "colab": {
          "base_uri": "https://localhost:8080/"
        }
      },
      "source": [
        "%pip --quiet install qiskit pylatexenc\n",
        "%matplotlib inline\n",
        "\n",
        "# Importing standard Qiskit libraries and configuring account\n",
        "from qiskit import QuantumCircuit, execute, Aer, IBMQ\n",
        "from qiskit.compiler import transpile, assemble\n",
        "from qiskit.circuit.library import QFT\n",
        "from qiskit.tools.jupyter import *\n",
        "from qiskit.visualization import *\n",
        "from random import randint, seed\n",
        "from numpy import gcd\n",
        "\n",
        "# Loading your IBM Q account(s)\n",
        "# IBMQ.load_account()\n",
        "backend = Aer.get_backend('qasm_simulator')"
      ],
      "execution_count": 1,
      "outputs": [
        {
          "output_type": "stream",
          "text": [
            "\u001b[K     |████████████████████████████████| 163kB 4.2MB/s \n",
            "\u001b[K     |████████████████████████████████| 8.5MB 5.0MB/s \n",
            "\u001b[K     |████████████████████████████████| 17.6MB 262kB/s \n",
            "\u001b[K     |████████████████████████████████| 204kB 46.7MB/s \n",
            "\u001b[K     |████████████████████████████████| 204kB 57.6MB/s \n",
            "\u001b[K     |████████████████████████████████| 2.1MB 55.7MB/s \n",
            "\u001b[K     |████████████████████████████████| 5.9MB 47.2MB/s \n",
            "\u001b[K     |████████████████████████████████| 1.3MB 47.4MB/s \n",
            "\u001b[K     |████████████████████████████████| 51kB 4.9MB/s \n",
            "\u001b[K     |████████████████████████████████| 194kB 59.5MB/s \n",
            "\u001b[K     |████████████████████████████████| 81kB 6.7MB/s \n",
            "\u001b[K     |████████████████████████████████| 614kB 44.0MB/s \n",
            "\u001b[K     |████████████████████████████████| 102kB 9.2MB/s \n",
            "\u001b[K     |████████████████████████████████| 2.6MB 40.8MB/s \n",
            "\u001b[K     |████████████████████████████████| 5.5MB 50.4MB/s \n",
            "\u001b[?25h  Building wheel for qiskit (setup.py) ... \u001b[?25l\u001b[?25hdone\n",
            "  Building wheel for pylatexenc (setup.py) ... \u001b[?25l\u001b[?25hdone\n",
            "  Building wheel for contextvars (setup.py) ... \u001b[?25l\u001b[?25hdone\n",
            "  Building wheel for python-constraint (setup.py) ... \u001b[?25l\u001b[?25hdone\n",
            "  Building wheel for dlx (setup.py) ... \u001b[?25l\u001b[?25hdone\n",
            "  Building wheel for docplex (setup.py) ... \u001b[?25l\u001b[?25hdone\n",
            "  Building wheel for yfinance (setup.py) ... \u001b[?25l\u001b[?25hdone\n"
          ],
          "name": "stdout"
        }
      ]
    },
    {
      "cell_type": "code",
      "metadata": {
        "id": "3F2F4frquorZ"
      },
      "source": [
        "def initialize_qubits(qc, n, m):\n",
        "    qc.h(range(n)) # apply hadamard gates\n",
        "    qc.x(n+m-1) # set qubit to 1\n",
        "\n",
        "def a_x_mod15(a, x):\n",
        "    if a not in [2,7,8,11,13]:\n",
        "        raise ValueError(\"'a' must be 2,7,8,11 or 13\")\n",
        "    U = QuantumCircuit(4)        \n",
        "    for iteration in range(x):\n",
        "        if a in [2,13]:\n",
        "            U.swap(0,1)\n",
        "            U.swap(1,2)\n",
        "            U.swap(2,3)\n",
        "        if a in [7,8]:\n",
        "            U.swap(2,3)\n",
        "            U.swap(1,2)\n",
        "            U.swap(0,1)\n",
        "        if a == 11:\n",
        "            U.swap(1,3)\n",
        "            U.swap(0,2)\n",
        "        if a in [7,11,13]:\n",
        "            for q in range(4):\n",
        "                U.x(q)\n",
        "    U = U.to_gate()\n",
        "    U.name = f\"U({x})\"\n",
        "    c_U = U.control()\n",
        "    return c_U\n",
        "\n",
        "\n",
        "def modular_exponentiation(qc, n, m, a):\n",
        "    for x in range(n):\n",
        "        exponent = 2**x\n",
        "        qc.append(a_x_mod15(a, exponent), [x] + list(range(n, n+m)))\n",
        "\n",
        "def apply_iqft(qc, measurement_qubits):\n",
        "    qc.append(QFT(len(measurement_qubits), do_swaps=False).inverse(), measurement_qubits)\n",
        "\n",
        "\n",
        "def measure(qc, n):\n",
        "    qc.measure(n, n)"
      ],
      "execution_count": 2,
      "outputs": []
    },
    {
      "cell_type": "code",
      "metadata": {
        "scrolled": false,
        "id": "hZmWgkh4uora",
        "outputId": "3c5cc3f5-512d-45fb-a3f7-a73b57c98f0e",
        "colab": {
          "base_uri": "https://localhost:8080/",
          "height": 458
        }
      },
      "source": [
        "# prime number\n",
        "N = 15\n",
        "# a guess factor\n",
        "seed(7)\n",
        "a = randint(2, N) # 1 < a < N\n",
        "\n",
        "n = 4; m = 4\n",
        "\n",
        "# set up quantum circuit\n",
        "qc = QuantumCircuit(n+m, n)\n",
        "\n",
        "# initialize the qubits\n",
        "initialize_qubits(qc, n, m)\n",
        "qc.barrier()\n",
        "\n",
        "# apply modular exponentiation\n",
        "modular_exponentiation(qc, n, m, a)\n",
        "qc.barrier()\n",
        "\n",
        "# apply inverse QFT\n",
        "apply_iqft(qc, range(n))\n",
        "qc.barrier()\n",
        "\n",
        "# measure the n measurement qubits\n",
        "measure(qc, range(n))\n",
        "\n",
        "qc.draw('mpl')"
      ],
      "execution_count": 3,
      "outputs": [
        {
          "output_type": "execute_result",
          "data": {
            "image/png": "[encoded data removed]",
            "text/plain": [
              "<Figure size 869.197x565.88 with 1 Axes>"
            ]
          },
          "metadata": {
            "tags": []
          },
          "execution_count": 3
        }
      ]
    },
    {
      "cell_type": "code",
      "metadata": {
        "id": "Y4KXEkbxuora"
      },
      "source": [
        "transpile(qc, optimization_level=3).draw()"
      ],
      "execution_count": null,
      "outputs": []
    },
    {
      "cell_type": "code",
      "metadata": {
        "id": "pSrk6_L8uora",
        "outputId": "111c79bf-968f-4c25-df8f-95d7b05b2c85",
        "colab": {
          "base_uri": "https://localhost:8080/",
          "height": 348
        }
      },
      "source": [
        "counts = execute(qc, backend=backend).result().get_counts(qc)\n",
        "\n",
        "plot_histogram(counts)"
      ],
      "execution_count": 4,
      "outputs": [
        {
          "output_type": "execute_result",
          "data": {
            "image/png": "[encoded data removed]",
            "text/plain": [
              "<Figure size 504x360 with 1 Axes>"
            ]
          },
          "metadata": {
            "tags": []
          },
          "execution_count": 4
        }
      ]
    },
    {
      "cell_type": "code",
      "metadata": {
        "id": "_x0dGPWyuorb",
        "outputId": "447b4d05-1992-4204-8322-9ad38d2bda57",
        "colab": {
          "base_uri": "https://localhost:8080/"
        }
      },
      "source": [
        "# convert and add binary periods to list\n",
        "counts_dec = sorted([int(measured_value[::-1], 2)\n",
        "                     for measured_value in counts])\n",
        "\n",
        "print(\"Measured periods:\", end='\\t')\n",
        "for measured_value in counts_dec:\n",
        "    print(measured_value, end='\\t')"
      ],
      "execution_count": 5,
      "outputs": [
        {
          "output_type": "stream",
          "text": [
            "Measured periods:\t0\t4\t8\t12\t"
          ],
          "name": "stdout"
        }
      ]
    },
    {
      "cell_type": "code",
      "metadata": {
        "id": "Azk98Qg8uorb"
      },
      "source": [
        "periods = []\n",
        "\n",
        "for measured_value in counts_dec:\n",
        "    if measured_value % 2 == 0: # x is even\n",
        "        if (int((a ** (measured_value/2))) + 1) % N != 0:\n",
        "            periods.append(measured_value)"
      ],
      "execution_count": 6,
      "outputs": []
    },
    {
      "cell_type": "code",
      "metadata": {
        "id": "O2oUsKxVuorb",
        "outputId": "d64816ea-df56-4bc4-afa5-33d39c1fcea6",
        "colab": {
          "base_uri": "https://localhost:8080/"
        }
      },
      "source": [
        "factors = set()\n",
        "\n",
        "for x in periods:\n",
        "    guesses = [gcd(int((a ** (measured_value/2))) + 1, N),\n",
        "               gcd(int((a ** (measured_value/2))) - 1, N)]\n",
        "    for guess in guesses:\n",
        "        # ignore trivial factors\n",
        "        if guess != 1 and guess != N and N % guess == 0:\n",
        "            factors.add(guess)\n",
        "\n",
        "if len(factors):\n",
        "    P = factors.pop()\n",
        "    Q = factors.pop() if len(factors) else N // P\n",
        "    print(f\"P = {P}\\nQ = {Q}\\n\\n\",\n",
        "          f\"{P} x {Q} = {N}, {P * Q == N}\")\n",
        "else:\n",
        "    print(\"Shor's Algorithm Failed. Choose a different 'a'.\")"
      ],
      "execution_count": 7,
      "outputs": [
        {
          "output_type": "stream",
          "text": [
            "P = 3\n",
            "Q = 5\n",
            "\n",
            " 3 x 5 = 15, True\n"
          ],
          "name": "stdout"
        }
      ]
    }
  ]
}